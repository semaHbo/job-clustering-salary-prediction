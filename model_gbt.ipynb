{
  "nbformat": 4,
  "nbformat_minor": 0,
  "metadata": {
    "colab": {
      "provenance": [],
      "authorship_tag": "ABX9TyMuAYjVZyk17w1fc5HG/Nvm",
      "include_colab_link": true
    },
    "kernelspec": {
      "name": "python3",
      "display_name": "Python 3"
    },
    "language_info": {
      "name": "python"
    }
  },
  "cells": [
    {
      "cell_type": "markdown",
      "metadata": {
        "id": "view-in-github",
        "colab_type": "text"
      },
      "source": [
        "<a href=\"https://colab.research.google.com/github/semaHbo/job-clustering-salary-prediction/blob/main/model_gbt.ipynb\" target=\"_parent\"><img src=\"https://colab.research.google.com/assets/colab-badge.svg\" alt=\"Open In Colab\"/></a>"
      ]
    },
    {
      "cell_type": "code",
      "source": [
        "!apt-get install openjdk-8-jdk-headless -qq > /dev/null\n",
        "!wget -q https://archive.apache.org/dist/spark/spark-3.3.2/spark-3.3.2-bin-hadoop3.tgz\n",
        "!tar -xzf spark-3.3.2-bin-hadoop3.tgz\n",
        "!pip install -q findspark\n"
      ],
      "metadata": {
        "id": "FVbutC25Zf6Q"
      },
      "execution_count": 19,
      "outputs": []
    },
    {
      "cell_type": "code",
      "source": [
        "import os\n",
        "import findspark\n",
        "\n",
        "os.environ[\"JAVA_HOME\"] = \"/usr/lib/jvm/java-8-openjdk-amd64\"\n",
        "os.environ[\"SPARK_HOME\"] = \"/content/spark-3.3.2-bin-hadoop3\"\n",
        "\n",
        "findspark.init()\n",
        "\n",
        "from pyspark.sql import SparkSession\n",
        "spark = SparkSession.builder.appName(\"GBT_Model\").getOrCreate()\n"
      ],
      "metadata": {
        "id": "YezQ1Ln0Zp1Y"
      },
      "execution_count": 20,
      "outputs": []
    },
    {
      "cell_type": "code",
      "source": [
        "from google.colab import drive\n",
        "drive.mount('/content/drive')\n"
      ],
      "metadata": {
        "colab": {
          "base_uri": "https://localhost:8080/"
        },
        "id": "iW8OfciVaKm3",
        "outputId": "0946b022-ed81-412d-af9b-c88676956b40"
      },
      "execution_count": 21,
      "outputs": [
        {
          "output_type": "stream",
          "name": "stdout",
          "text": [
            "Drive already mounted at /content/drive; to attempt to forcibly remount, call drive.mount(\"/content/drive\", force_remount=True).\n"
          ]
        }
      ]
    },
    {
      "cell_type": "code",
      "source": [
        "!ls /content/drive/MyDrive/datasets\n"
      ],
      "metadata": {
        "colab": {
          "base_uri": "https://localhost:8080/"
        },
        "id": "j8_XbEKebRRn",
        "outputId": "5987be36-449e-4aaf-b2c3-5e7239220c09"
      },
      "execution_count": 4,
      "outputs": [
        {
          "output_type": "stream",
          "name": "stdout",
          "text": [
            "archive.zip  test_df.parquet  train_df.parquet\n"
          ]
        }
      ]
    },
    {
      "cell_type": "code",
      "source": [
        "train_df = spark.read.parquet(\"/content/drive/MyDrive/datasets/train_df.parquet\")\n",
        "test_df = spark.read.parquet(\"/content/drive/MyDrive/datasets/test_df.parquet\")\n"
      ],
      "metadata": {
        "id": "482PFF-znIw8"
      },
      "execution_count": 22,
      "outputs": []
    },
    {
      "cell_type": "code",
      "source": [
        "from pyspark.ml.regression import GBTRegressor\n",
        "from pyspark.ml.evaluation import RegressionEvaluator\n",
        "\n",
        "# Modeli tanımlama\n",
        "gbt = GBTRegressor(\n",
        "    featuresCol=\"features\",\n",
        "    labelCol=\"Log_Maas_USD\",\n",
        "    predictionCol=\"prediction\",\n",
        "    maxIter=100,  # toplam ağaç sayısı\n",
        "    maxDepth=5,   # ağaçların derinliği\n",
        "    seed=42\n",
        ")\n",
        "\n",
        "# Eğitimi başlatma\n",
        "gbt_model = gbt.fit(train_df)\n",
        "\n",
        "# Test seti üzerinde tahmin yapma\n",
        "predictions = gbt_model.transform(test_df)\n",
        "\n",
        "# R² skorunu hesaplama\n",
        "evaluator = RegressionEvaluator(\n",
        "    labelCol=\"Log_Maas_USD\",\n",
        "    predictionCol=\"prediction\",\n",
        "    metricName=\"r2\"\n",
        ")\n",
        "\n",
        "r2_score = evaluator.evaluate(predictions)\n",
        "print(\" GBT R² Skoru:\", round(r2_score, 4))\n"
      ],
      "metadata": {
        "colab": {
          "base_uri": "https://localhost:8080/"
        },
        "id": "x0SrmAcnoOK5",
        "outputId": "35c74854-e233-4687-a4c5-688e189a6291"
      },
      "execution_count": null,
      "outputs": [
        {
          "output_type": "stream",
          "name": "stdout",
          "text": [
            " GBT R² Skoru: 0.5453\n"
          ]
        }
      ]
    },
    {
      "cell_type": "code",
      "source": [
        "from pyspark.ml.feature import Tokenizer, HashingTF, IDF, PCA\n",
        "from pyspark.ml import Pipeline\n"
      ],
      "metadata": {
        "id": "yX1BDjr_qBoi"
      },
      "execution_count": 23,
      "outputs": []
    },
    {
      "cell_type": "code",
      "source": [
        "# Tokenizer: metni kelimelere ayırmak icin\n",
        "tokenizer = Tokenizer(inputCol=\"Pozisyon\", outputCol=\"pozisyon_token\")\n",
        "\n",
        "# HashingTF: kelimeleri sayısal temsile dönüştürmek icin\n",
        "hashingTF = HashingTF(inputCol=\"pozisyon_token\", outputCol=\"pozisyon_tf\", numFeatures=100)\n",
        "\n",
        "# IDF: kelimelerin önem ağırlıklarını hesaplamak icin\n",
        "idf = IDF(inputCol=\"pozisyon_tf\", outputCol=\"pozisyon_tfidf\")\n",
        "\n",
        "# PCA: Boyutu azaltma (10 bileşene indiriyoruz)\n",
        "pca = PCA(k=10, inputCol=\"pozisyon_tfidf\", outputCol=\"pozisyon_vec\")\n",
        "\n",
        "# Pipeline: tüm adımları zincirlemak icin\n",
        "pipeline = Pipeline(stages=[tokenizer, hashingTF, idf, pca])\n"
      ],
      "metadata": {
        "id": "k-xB8Nl6qjGL"
      },
      "execution_count": 7,
      "outputs": []
    },
    {
      "cell_type": "code",
      "source": [
        "# train_df ve test_df'yi birleştirme dönüşüm tek seferde yapılsın\n",
        "df_all = train_df.union(test_df)\n",
        "\n",
        "# Pipelineı eğitme ve uygulama\n",
        "model = pipeline.fit(df_all)\n",
        "df_transformed = model.transform(df_all)\n"
      ],
      "metadata": {
        "id": "3dwQ5QeZqtpz"
      },
      "execution_count": 24,
      "outputs": []
    },
    {
      "cell_type": "code",
      "source": [
        "from pyspark.ml.feature import VectorAssembler\n",
        "\n",
        "assembler = VectorAssembler(\n",
        "    inputCols=[\"pozisyon_vec\"],  # daha sonra diğer feature'ları da ekleyebiliriz\n",
        "    outputCol=\"features_new\"     # önceki 'features' ile çakışmaması için yeni ad\n",
        ")\n",
        "\n",
        "df_ready = assembler.transform(df_transformed)\n"
      ],
      "metadata": {
        "id": "3W-Wte7Qrn0H"
      },
      "execution_count": 26,
      "outputs": []
    },
    {
      "cell_type": "code",
      "source": [
        "from pyspark.sql.functions import monotonically_increasing_id\n",
        "\n",
        "df_ready_indexed = df_ready.withColumn(\"row_id\", monotonically_increasing_id())\n"
      ],
      "metadata": {
        "id": "pAo_FXC0r3CG"
      },
      "execution_count": 27,
      "outputs": []
    },
    {
      "cell_type": "code",
      "source": [
        "train_df_indexed = train_df.withColumn(\"row_id\", monotonically_increasing_id())\n",
        "test_df_indexed = test_df.withColumn(\"row_id\", monotonically_increasing_id())\n",
        "#setlere indeks ekleme"
      ],
      "metadata": {
        "id": "G--4w9CWuIUD"
      },
      "execution_count": 28,
      "outputs": []
    },
    {
      "cell_type": "code",
      "source": [
        "df_features = df_ready_indexed.select(\"row_id\", \"features_new\")\n"
      ],
      "metadata": {
        "id": "r8BwYidGuMTy"
      },
      "execution_count": 29,
      "outputs": []
    },
    {
      "cell_type": "code",
      "source": [
        "train_df_final = train_df_indexed.join(df_features, on=[\"row_id\"], how=\"inner\")\n",
        "test_df_final = test_df_indexed.join(df_features, on=[\"row_id\"], how=\"inner\")\n",
        "#Merge işlemi: train_df_indexed ve df_features birleştirilir"
      ],
      "metadata": {
        "id": "6WjrihPVuT5h"
      },
      "execution_count": 30,
      "outputs": []
    },
    {
      "cell_type": "code",
      "source": [
        "train_df_indexed_clean = train_df_indexed.drop(\"Log_Maas_USD\")\n",
        "test_df_indexed_clean = test_df_indexed.drop(\"Log_Maas_USD\")\n",
        "#Hem train_df_indexed hem test_df_indexed'den Log_Maas_USD’yi cikarma"
      ],
      "metadata": {
        "id": "oxJbwRHbvN1C"
      },
      "execution_count": 31,
      "outputs": []
    },
    {
      "cell_type": "code",
      "source": [
        "df_features = df_ready_indexed.select(\"row_id\", \"features_new\", \"Log_Maas_USD\")\n"
      ],
      "metadata": {
        "id": "4PxbrQ3Xvbng"
      },
      "execution_count": 32,
      "outputs": []
    },
    {
      "cell_type": "code",
      "source": [
        "train_df_final = train_df_indexed_clean.join(df_features, on=\"row_id\", how=\"inner\")\n",
        "test_df_final = test_df_indexed_clean.join(df_features, on=\"row_id\", how=\"inner\")\n"
      ],
      "metadata": {
        "id": "1_CFNOaLvfvK"
      },
      "execution_count": 33,
      "outputs": []
    },
    {
      "cell_type": "code",
      "source": [
        "#model egitimi\n",
        "gbt = GBTRegressor(\n",
        "    featuresCol=\"features_new\",\n",
        "    labelCol=\"Log_Maas_USD\",\n",
        "    predictionCol=\"prediction\",\n",
        "    maxIter=100,\n",
        "    maxDepth=5,\n",
        "    seed=42\n",
        ")\n",
        "\n",
        "model = gbt.fit(train_df_final)\n",
        "predictions = model.transform(test_df_final)\n",
        "\n",
        "evaluator = RegressionEvaluator(\n",
        "    labelCol=\"Log_Maas_USD\",\n",
        "    predictionCol=\"prediction\",\n",
        "    metricName=\"r2\"\n",
        ")\n",
        "\n",
        "r2_score = evaluator.evaluate(predictions)\n",
        "print(\" TF-IDF + PCA GBT R² Skoru (stratified veriyle):\", round(r2_score, 4))\n"
      ],
      "metadata": {
        "colab": {
          "base_uri": "https://localhost:8080/"
        },
        "id": "pzHAZ040vjNn",
        "outputId": "8c27ed26-1c07-417e-ae6f-df96db49f657"
      },
      "execution_count": null,
      "outputs": [
        {
          "output_type": "stream",
          "name": "stdout",
          "text": [
            " TF-IDF + PCA GBT R² Skoru (stratified veriyle): 0.0351\n"
          ]
        }
      ]
    },
    {
      "cell_type": "markdown",
      "source": [
        "sonuc cok kotu yeni vektör olusturup özellikler dahil edilerek tekrar denenmeli sonuclar analiz edilmeli"
      ],
      "metadata": {
        "id": "zzDj5AtfwDiE"
      }
    },
    {
      "cell_type": "code",
      "source": [
        "#from pyspark.ml.feature import VectorAssembler\n"
      ],
      "metadata": {
        "id": "Zq4qbLsnofbL"
      },
      "execution_count": 34,
      "outputs": []
    },
    {
      "cell_type": "code",
      "source": [
        "df_all = train_df.union(test_df)\n",
        "#tum veriyi birlestirme"
      ],
      "metadata": {
        "id": "i1p5smNdqRHl"
      },
      "execution_count": 35,
      "outputs": []
    },
    {
      "cell_type": "code",
      "source": [
        "#pozisyon vektoru olusturnma\n",
        "from pyspark.ml.feature import Tokenizer, HashingTF, IDF, PCA\n",
        "from pyspark.ml import Pipeline\n",
        "\n",
        "tokenizer = Tokenizer(inputCol=\"Pozisyon\", outputCol=\"pozisyon_token\")\n",
        "hashingTF = HashingTF(inputCol=\"pozisyon_token\", outputCol=\"pozisyon_tf\", numFeatures=100)\n",
        "idf = IDF(inputCol=\"pozisyon_tf\", outputCol=\"pozisyon_tfidf\")\n",
        "pca = PCA(k=10, inputCol=\"pozisyon_tfidf\", outputCol=\"pozisyon_vec\")\n",
        "\n",
        "pipeline = Pipeline(stages=[tokenizer, hashingTF, idf, pca])\n",
        "model = pipeline.fit(df_all)\n",
        "df_ready = model.transform(df_all)\n"
      ],
      "metadata": {
        "id": "ZposleahqcRH"
      },
      "execution_count": 36,
      "outputs": []
    },
    {
      "cell_type": "code",
      "source": [
        "#string indexer islemleri\n",
        "from pyspark.ml.feature import StringIndexer\n",
        "\n",
        "indexer_deneyim = StringIndexer(inputCol=\"Deneyim_Seviyesi\", outputCol=\"Deneyim_Seviyesi_Encoded\")\n",
        "indexer_calisma = StringIndexer(inputCol=\"Calisma_Tipi\", outputCol=\"Calisma_Tipi_Encoded\")\n",
        "indexer_buyukluk = StringIndexer(inputCol=\"Sirket_Buyuklugu\", outputCol=\"Sirket_Buyuklugu_Encoded\")\n",
        "\n",
        "df_indexed = indexer_deneyim.fit(df_ready).transform(df_ready)\n",
        "df_indexed = indexer_calisma.fit(df_indexed).transform(df_indexed)\n",
        "df_indexed = indexer_buyukluk.fit(df_indexed).transform(df_indexed)\n"
      ],
      "metadata": {
        "id": "XAtvJRRbqmM3"
      },
      "execution_count": 37,
      "outputs": []
    },
    {
      "cell_type": "code",
      "source": [
        "#sirket_ulke sutununu indeksleme\n",
        "# Eksik indexleme:\n",
        "indexer_ulke = StringIndexer(inputCol=\"Sirket_Ulke\", outputCol=\"Sirket_Ulke_Encoded\")\n",
        "df_indexed = indexer_ulke.fit(df_indexed).transform(df_indexed)\n"
      ],
      "metadata": {
        "id": "2kCnrD9NrVxl"
      },
      "execution_count": 39,
      "outputs": []
    },
    {
      "cell_type": "code",
      "source": [
        "from pyspark.ml.feature import VectorAssembler\n",
        "assembler = VectorAssembler(\n",
        "    inputCols=[\n",
        "        \"pozisyon_vec\",\n",
        "        \"Deneyim_Seviyesi_Encoded\",\n",
        "        \"Calisma_Tipi_Encoded\",\n",
        "        \"Sirket_Ulke_Encoded\",\n",
        "        \"Sirket_Buyuklugu_Encoded\"\n",
        "    ],\n",
        "    outputCol=\"features_new\"\n",
        ")\n",
        "df_final = assembler.transform(df_indexed)\n"
      ],
      "metadata": {
        "id": "9Z67GR7Twck5"
      },
      "execution_count": 40,
      "outputs": []
    },
    {
      "cell_type": "code",
      "source": [
        "from pyspark.sql.functions import monotonically_increasing_id\n",
        "\n",
        "# train/test setlerine ve df_final'e row_id ekle\n",
        "train_df_indexed = train_df.withColumn(\"row_id\", monotonically_increasing_id())\n",
        "test_df_indexed = test_df.withColumn(\"row_id\", monotonically_increasing_id())\n",
        "df_final_indexed = df_final.withColumn(\"row_id\", monotonically_increasing_id())\n"
      ],
      "metadata": {
        "id": "7VHzD5J_r6sF"
      },
      "execution_count": 41,
      "outputs": []
    },
    {
      "cell_type": "code",
      "source": [
        "#model icin sadece gerekli sutunlari almak icin\n",
        "df_features = df_final_indexed.select(\"row_id\", \"features_new\", \"Log_Maas_USD\")\n"
      ],
      "metadata": {
        "id": "FiiQ5k8pr-n1"
      },
      "execution_count": 42,
      "outputs": []
    },
    {
      "cell_type": "code",
      "source": [
        "#setleri eslestirme\n",
        "train_df_final = train_df_indexed.drop(\"Log_Maas_USD\").join(df_features, on=\"row_id\", how=\"inner\")\n",
        "test_df_final = test_df_indexed.drop(\"Log_Maas_USD\").join(df_features, on=\"row_id\", how=\"inner\")\n"
      ],
      "metadata": {
        "id": "yyiisqlMsGgu"
      },
      "execution_count": 43,
      "outputs": []
    },
    {
      "cell_type": "code",
      "source": [
        "#ozellik sayisini artirarak model egitimi gbt_2\n",
        "from pyspark.ml.regression import GBTRegressor\n",
        "from pyspark.ml.evaluation import RegressionEvaluator\n",
        "\n",
        "gbt = GBTRegressor(\n",
        "    featuresCol=\"features_new\",\n",
        "    labelCol=\"Log_Maas_USD\",\n",
        "    predictionCol=\"prediction\",\n",
        "    maxIter=100,\n",
        "    maxDepth=5,\n",
        "    maxBins=64,\n",
        "    seed=42\n",
        ")\n",
        "\n",
        "model = gbt.fit(train_df_final)\n",
        "predictions = model.transform(test_df_final)\n",
        "\n",
        "evaluator = RegressionEvaluator(\n",
        "    labelCol=\"Log_Maas_USD\",\n",
        "    predictionCol=\"prediction\",\n",
        "    metricName=\"r2\"\n",
        ")\n",
        "\n",
        "r2_score = evaluator.evaluate(predictions)\n",
        "print(\"Yeni GBT R² Skoru:\", round(r2_score, 4))\n"
      ],
      "metadata": {
        "colab": {
          "base_uri": "https://localhost:8080/"
        },
        "id": "wmbQ0eZtsLai",
        "outputId": "2e7b02bf-30a3-41f8-88fc-666d518e7c14"
      },
      "execution_count": 45,
      "outputs": [
        {
          "output_type": "stream",
          "name": "stdout",
          "text": [
            "Yeni GBT R² Skoru: 0.8074\n"
          ]
        }
      ]
    },
    {
      "cell_type": "markdown",
      "source": [
        "özellik sayisi arttirildi sonuc cok iyi"
      ],
      "metadata": {
        "id": "Pfn2DtU7uJEx"
      }
    },
    {
      "cell_type": "code",
      "source": [
        "#ozellik sayisini artirarak model egitimi gbt_2  maxBins=128\n",
        "from pyspark.ml.regression import GBTRegressor\n",
        "from pyspark.ml.evaluation import RegressionEvaluator\n",
        "\n",
        "gbt = GBTRegressor(\n",
        "    featuresCol=\"features_new\",\n",
        "    labelCol=\"Log_Maas_USD\",\n",
        "    predictionCol=\"prediction\",\n",
        "    maxIter=100,\n",
        "    maxDepth=5,\n",
        "    maxBins=128,\n",
        "    seed=42\n",
        ")\n",
        "\n",
        "model = gbt.fit(train_df_final)\n",
        "predictions = model.transform(test_df_final)\n",
        "\n",
        "evaluator = RegressionEvaluator(\n",
        "    labelCol=\"Log_Maas_USD\",\n",
        "    predictionCol=\"prediction\",\n",
        "    metricName=\"r2\"\n",
        ")\n",
        "\n",
        "r2_score = evaluator.evaluate(predictions)\n",
        "print(\"Yeni GBT R² Skoru:\", round(r2_score, 4))"
      ],
      "metadata": {
        "colab": {
          "base_uri": "https://localhost:8080/"
        },
        "id": "kGRctAkstnTx",
        "outputId": "03b29d53-c6e3-422a-b6cb-3309d0b39b42"
      },
      "execution_count": 46,
      "outputs": [
        {
          "output_type": "stream",
          "name": "stdout",
          "text": [
            "Yeni GBT R² Skoru: 0.8074\n"
          ]
        }
      ]
    },
    {
      "cell_type": "markdown",
      "source": [
        "feature importance yapilacak"
      ],
      "metadata": {
        "id": "X_qSknC9ukD-"
      }
    },
    {
      "cell_type": "code",
      "source": [
        "#feature_importance vektorunu cikarma\n",
        "importances = model.featureImportances.toArray()\n"
      ],
      "metadata": {
        "id": "hDoUvfF5uoec"
      },
      "execution_count": 47,
      "outputs": []
    },
    {
      "cell_type": "code",
      "source": [
        "#özellik adlarini ekleme\n",
        "auto_features = [\n",
        "    f\"PCA_{i}\" for i in range(10)\n",
        "] + [\n",
        "    \"Deneyim_Seviyesi\",\n",
        "    \"Calisma_Tipi\",\n",
        "    \"Sirket_Buyuklugu\",\n",
        "    \"Sirket_Ulke\"\n",
        "]\n"
      ],
      "metadata": {
        "id": "JC1WZRGsuwTu"
      },
      "execution_count": 48,
      "outputs": []
    },
    {
      "cell_type": "code",
      "source": [
        "#pandas ile tabloya dökme\n",
        "import pandas as pd\n",
        "import matplotlib.pyplot as plt\n",
        "\n",
        "importance_df = pd.DataFrame({\n",
        "    \"Özellik\": auto_features,\n",
        "    \"Önemi\": importances\n",
        "}).sort_values(\"Önemi\", ascending=False)\n"
      ],
      "metadata": {
        "id": "TYt0AbwWu3DH"
      },
      "execution_count": 49,
      "outputs": []
    },
    {
      "cell_type": "code",
      "source": [
        "#barplot ile gorsellestirme\n",
        "plt.figure(figsize=(10, 6))\n",
        "plt.bar(importance_df[\"Özellik\"], importance_df[\"Önemi\"], color=\"skyblue\")\n",
        "plt.title(\" Özellik Önem Dağılımı – GBT Modeli\")\n",
        "plt.ylabel(\"Önemi\")\n",
        "plt.xticks(rotation=45)\n",
        "plt.tight_layout()\n",
        "plt.show()\n"
      ],
      "metadata": {
        "colab": {
          "base_uri": "https://localhost:8080/",
          "height": 400
        },
        "id": "BAqBGvCMu97g",
        "outputId": "390be2f2-9ce4-496a-d0a1-5d6b7c2d770c"
      },
      "execution_count": 50,
      "outputs": [
        {
          "output_type": "display_data",
          "data": {
            "text/plain": [
              "<Figure size 1000x600 with 1 Axes>"
            ],
            "image/png": "[encoded data removed]"
          },
          "metadata": {}
        }
      ]
    },
    {
      "cell_type": "markdown",
      "source": [
        "gercek deger ve modelin tahmini icin karsilastirma yapilacak"
      ],
      "metadata": {
        "id": "539zoO22wNfC"
      }
    },
    {
      "cell_type": "code",
      "source": [
        "predictions_pd = predictions.select(\"Log_Maas_USD\", \"prediction\").toPandas()\n"
      ],
      "metadata": {
        "id": "VPUgMLxywQnk"
      },
      "execution_count": 51,
      "outputs": []
    },
    {
      "cell_type": "code",
      "source": [
        "#dagilim grafigi\n",
        "import matplotlib.pyplot as plt\n",
        "\n",
        "plt.figure(figsize=(8, 6))\n",
        "plt.scatter(predictions_pd[\"Log_Maas_USD\"], predictions_pd[\"prediction\"], alpha=0.5, color=\"mediumseagreen\")\n",
        "plt.plot([predictions_pd[\"Log_Maas_USD\"].min(), predictions_pd[\"Log_Maas_USD\"].max()],\n",
        "         [predictions_pd[\"Log_Maas_USD\"].min(), predictions_pd[\"Log_Maas_USD\"].max()],\n",
        "         color=\"red\", linestyle=\"--\", label=\"Gerçek = Tahmin\")\n",
        "\n",
        "plt.title(\" Gerçek vs Tahmin – GBT Modeli\")\n",
        "plt.xlabel(\"Gerçek Log(Maaş USD)\")\n",
        "plt.ylabel(\"Tahmin Edilen Log(Maaş USD)\")\n",
        "plt.legend()\n",
        "plt.grid(True)\n",
        "plt.tight_layout()\n",
        "plt.show()\n"
      ],
      "metadata": {
        "colab": {
          "base_uri": "https://localhost:8080/",
          "height": 497
        },
        "id": "v-I2SMS7wTPV",
        "outputId": "de3ace11-ba0c-41ce-95d2-d7fc42b9a303"
      },
      "execution_count": 52,
      "outputs": [
        {
          "output_type": "display_data",
          "data": {
            "text/plain": [
              "<Figure size 800x600 with 1 Axes>"
            ],
            "image/png": "[encoded data removed]"
          },
          "metadata": {}
        }
      ]
    }
  ]
}