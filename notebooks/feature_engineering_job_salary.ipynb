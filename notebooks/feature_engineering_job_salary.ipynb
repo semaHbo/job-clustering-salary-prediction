{
  "nbformat": 4,
  "nbformat_minor": 0,
  "metadata": {
    "colab": {
      "provenance": [],
      "authorship_tag": "ABX9TyM4EvDXxMeibndC+2ldRGyz",
      "include_colab_link": true
    },
    "kernelspec": {
      "name": "python3",
      "display_name": "Python 3"
    },
    "language_info": {
      "name": "python"
    }
  },
  "cells": [
    {
      "cell_type": "markdown",
      "metadata": {
        "id": "view-in-github",
        "colab_type": "text"
      },
      "source": [
        "<a href=\"https://colab.research.google.com/github/semaHbo/job-clustering-salary-prediction/blob/main/feature_engineering_job_salary.ipynb\" target=\"_parent\"><img src=\"https://colab.research.google.com/assets/colab-badge.svg\" alt=\"Open In Colab\"/></a>"
      ]
    },
    {
      "cell_type": "code",
      "execution_count": 4,
      "metadata": {
        "id": "gEDzyjGacYux"
      },
      "outputs": [],
      "source": [
        "#  Özellik Mühendisliği – Maaş Tahmini Projesi\n"
      ]
    },
    {
      "cell_type": "code",
      "source": [
        "!pip install pyspark\n",
        "from pyspark.sql import SparkSession\n",
        "\n",
        "spark = SparkSession.builder.appName(\"SalaryPredictionFeatures\").getOrCreate()\n"
      ],
      "metadata": {
        "colab": {
          "base_uri": "https://localhost:8080/"
        },
        "id": "Z3EmQJtvdBSz",
        "outputId": "03a3d7b9-d4a6-4a70-e7f3-dbcae2f956ec"
      },
      "execution_count": 5,
      "outputs": [
        {
          "output_type": "stream",
          "name": "stdout",
          "text": [
            "Requirement already satisfied: pyspark in /usr/local/lib/python3.11/dist-packages (3.5.1)\n",
            "Requirement already satisfied: py4j==0.10.9.7 in /usr/local/lib/python3.11/dist-packages (from pyspark) (0.10.9.7)\n"
          ]
        }
      ]
    },
    {
      "cell_type": "code",
      "source": [
        "from pyspark.ml.feature import StringIndexer, OneHotEncoder, Word2Vec, VectorAssembler\n",
        "from pyspark.ml import Pipeline\n",
        "from pyspark.sql.functions import split\n"
      ],
      "metadata": {
        "id": "uQZoFIZsdVCc"
      },
      "execution_count": 6,
      "outputs": []
    },
    {
      "cell_type": "code",
      "source": [
        "from google.colab import drive  #drivea baglanma\n",
        "drive.mount('/content/drive')\n"
      ],
      "metadata": {
        "colab": {
          "base_uri": "https://localhost:8080/"
        },
        "id": "31cX8RdSeZmO",
        "outputId": "450d9cfb-a593-40d3-b568-a0692d11cb7b"
      },
      "execution_count": 8,
      "outputs": [
        {
          "output_type": "stream",
          "name": "stdout",
          "text": [
            "Mounted at /content/drive\n"
          ]
        }
      ]
    },
    {
      "cell_type": "code",
      "source": [
        "import os\n",
        "\n",
        "# datasets klasörünün içini kontrol et\n",
        "os.listdir(\"/content/drive/MyDrive/datasets\")\n"
      ],
      "metadata": {
        "colab": {
          "base_uri": "https://localhost:8080/"
        },
        "id": "Rkz75VHxehIc",
        "outputId": "1e8e7468-1e57-4627-9e84-db61645a60b8"
      },
      "execution_count": 9,
      "outputs": [
        {
          "output_type": "execute_result",
          "data": {
            "text/plain": [
              "['archive.zip']"
            ]
          },
          "metadata": {},
          "execution_count": 9
        }
      ]
    },
    {
      "cell_type": "code",
      "source": [
        "import zipfile\n",
        "\n",
        "zip_path = \"/content/drive/MyDrive/datasets/archive.zip\"\n",
        "extract_path = \"/content/datasets/\"\n",
        "\n",
        "with zipfile.ZipFile(zip_path, 'r') as zip_ref:\n",
        "    zip_ref.extractall(extract_path)\n"
      ],
      "metadata": {
        "id": "HSUuQc1de6WB"
      },
      "execution_count": 11,
      "outputs": []
    },
    {
      "cell_type": "code",
      "source": [
        "df = spark.read.csv(\"/content/datasets/ds_salaries.csv\", header=True, inferSchema=True)\n"
      ],
      "metadata": {
        "id": "NpQ0sXPwe_Ef"
      },
      "execution_count": 12,
      "outputs": []
    },
    {
      "cell_type": "code",
      "source": [
        "from pyspark.ml.feature import StringIndexer, OneHotEncoder, Word2Vec, VectorAssembler\n",
        "from pyspark.ml import Pipeline\n",
        "from pyspark.sql.functions import split, log1p\n",
        "#kategorik degiskenleri sayisala cevirmek icin gerekli kutuphaneler"
      ],
      "metadata": {
        "id": "NZni60tAgaP6"
      },
      "execution_count": 13,
      "outputs": []
    },
    {
      "cell_type": "code",
      "source": [
        "from pyspark.sql.functions import log1p, split\n",
        "\n",
        "# Sütun adını Türkçeleştir\n",
        "df = df.withColumnRenamed(\"salary_in_usd\", \"Maas_USD\")\n",
        "\n",
        "# Log dönüşümünü uygula\n",
        "df = df.withColumn(\"Log_Maas_USD\", log1p(\"Maas_USD\"))\n",
        "\n",
        "# Pozisyonu kelimelere ayır (Word2Vec için)\n",
        "df = df.withColumn(\"Pozisyon_Token\", split(df[\"job_title\"], \" \"))\n"
      ],
      "metadata": {
        "id": "Zjc1jXK3ixq9"
      },
      "execution_count": 15,
      "outputs": []
    },
    {
      "cell_type": "code",
      "source": [
        "df = df.withColumnRenamed(\"salary_in_usd\", \"Maas_USD\") \\\n",
        "       .withColumnRenamed(\"job_title\", \"Pozisyon\") \\\n",
        "       .withColumnRenamed(\"experience_level\", \"Deneyim_Seviyesi\") \\\n",
        "       .withColumnRenamed(\"employment_type\", \"Calisma_Tipi\") \\\n",
        "       .withColumnRenamed(\"company_size\", \"Sirket_Buyuklugu\") \\\n",
        "       .withColumnRenamed(\"remote_ratio\", \"Uzaktan_Calisma_Orani\")\n"
      ],
      "metadata": {
        "id": "G9zdzy8gi0mj"
      },
      "execution_count": 16,
      "outputs": []
    },
    {
      "cell_type": "code",
      "source": [
        "from pyspark.ml.feature import StringIndexer, OneHotEncoder, Word2Vec, VectorAssembler\n",
        "from pyspark.ml import Pipeline\n",
        "\n",
        "# 1. Kategorik sütunlar\n",
        "kategorik_sutunlar = [\"Deneyim_Seviyesi\", \"Calisma_Tipi\", \"Sirket_Buyuklugu\"]\n",
        "\n",
        "# 2. StringIndexer ve OneHotEncoder işlemleri\n",
        "indexers = [StringIndexer(inputCol=col, outputCol=col + \"_Index\") for col in kategorik_sutunlar]\n",
        "encoders = [OneHotEncoder(inputCol=col + \"_Index\", outputCol=col + \"_Vec\") for col in kategorik_sutunlar]\n",
        "\n",
        "# 3. Pozisyon (Word2Vec için daha önce tokenize edilmişti: Pozisyon_Token)\n",
        "word2vec = Word2Vec(vectorSize=10, minCount=1, inputCol=\"Pozisyon_Token\", outputCol=\"Pozisyon_Vec\")\n",
        "\n",
        "# 4. Tüm özellikleri birleştir (numerik + kategorik vektörler)\n",
        "assembler = VectorAssembler(\n",
        "    inputCols=[\"Uzaktan_Calisma_Orani\", \"Pozisyon_Vec\"] + [col + \"_Vec\" for col in kategorik_sutunlar],\n",
        "    outputCol=\"features\"\n",
        ")\n",
        "\n",
        "# 5. Pipeline oluştur\n",
        "pipeline = Pipeline(stages=indexers + encoders + [word2vec, assembler])\n",
        "\n",
        "# 6. Pipeline'ı fit et ve veriye uygula\n",
        "pipeline_model = pipeline.fit(df)\n",
        "df_transformed = pipeline_model.transform(df)\n",
        "\n",
        "# 7. Sonuçları görelim\n",
        "df_transformed.select(\"features\", \"Log_Maas_USD\").show(5, truncate=False)\n"
      ],
      "metadata": {
        "colab": {
          "base_uri": "https://localhost:8080/"
        },
        "id": "Uruy0DWujQQU",
        "outputId": "1bf010ef-8be7-4bce-f94a-9667799aabb5"
      },
      "execution_count": 17,
      "outputs": [
        {
          "output_type": "stream",
          "name": "stdout",
          "text": [
            "+------------------------------------------------------------------------------------------------------------------------------------------------------------------------------------------------------------------------------------------------------+------------------+\n",
            "|features                                                                                                                                                                                                                                              |Log_Maas_USD      |\n",
            "+------------------------------------------------------------------------------------------------------------------------------------------------------------------------------------------------------------------------------------------------------+------------------+\n",
            "|[0.0,-0.07917275279760361,0.17954810708761215,-0.13680896162986755,0.11029914766550064,0.03285581059753895,0.16857144236564636,0.0659734308719635,-0.07491271942853928,-0.03279382718028501,-0.13312166929244995,0.0,1.0,0.0,1.0,0.0,0.0,0.0,1.0]     |11.28770475786082 |\n",
            "|[0.0,-0.0013389519105354943,-0.04981364806493123,0.11841268340746561,-0.005086374779542287,0.016872084389130272,-0.1800783301393191,-0.03896178801854451,0.06246172140041987,0.056708759434210755,0.07041154041265447,1.0,0.0,0.0,1.0,0.0,0.0,0.0,0.0]|12.468440756144114|\n",
            "|[50.0,-0.027176253497600555,0.04955524019896984,-0.08627710801859696,0.04174335882999003,0.008011974394321442,0.0641976169620951,0.024446810285250344,0.01453951746225357,0.016602488855520882,-0.08387295342981815,1.0,0.0,0.0,1.0,0.0,0.0,1.0,0.0]  |11.599332492710968|\n",
            "|[0.0,-0.060105429574226335,0.1390424221754074,-0.12047128627697626,0.06594539348346491,0.03185051803787549,0.14925126979748407,0.08690556138753891,-0.05522806042184432,-0.048743560910224915,-0.10221822932362556,0.0,1.0,0.0,1.0,0.0,0.0,0.0,0.0]   |9.90353755128617  |\n",
            "|[50.0,0.013722866152723629,-0.1299811800320943,0.13173529505729675,-0.054129223416869834,-0.009818946321805317,-0.22324393441279727,-0.048783689737319946,0.1107751801609993,0.08009186262885729,0.08215014869347215,1.0,0.0,0.0,1.0,0.0,0.0,0.0,1.0] |11.918397239722838|\n",
            "+------------------------------------------------------------------------------------------------------------------------------------------------------------------------------------------------------------------------------------------------------+------------------+\n",
            "only showing top 5 rows\n",
            "\n"
          ]
        }
      ]
    },
    {
      "cell_type": "code",
      "source": [
        "from pyspark.ml.feature import StringIndexer, OneHotEncoder, Word2Vec, VectorAssembler\n",
        "from pyspark.ml import Pipeline\n",
        "from pyspark.sql.functions import split, log1p\n",
        "\n",
        "#ulke sutunlarini sayisallastirarak veri setine tekrar dahil etme\n",
        "df = df.withColumnRenamed(\"employee_residence\", \"Calisan_Ulke\") \\\n",
        "       .withColumnRenamed(\"company_location\", \"Sirket_Ulke\")\n",
        "\n",
        "#  Log maaş ve pozisyon token'ı\n",
        "df = df.withColumn(\"Log_Maas_USD\", log1p(\"Maas_USD\"))\n",
        "df = df.withColumn(\"Pozisyon_Token\", split(df[\"Pozisyon\"], \" \"))\n",
        "\n",
        "#  Kategorik sütunları tanımlama\n",
        "kategorik_sutunlar = [\n",
        "    \"Deneyim_Seviyesi\",\n",
        "    \"Calisma_Tipi\",\n",
        "    \"Sirket_Buyuklugu\",\n",
        "    \"Calisan_Ulke\",\n",
        "    \"Sirket_Ulke\"\n",
        "]\n",
        "\n",
        "# OneHot işlemleri\n",
        "indexers = [StringIndexer(inputCol=col, outputCol=col + \"_Index\") for col in kategorik_sutunlar]\n",
        "encoders = [OneHotEncoder(inputCol=col + \"_Index\", outputCol=col + \"_Vec\") for col in kategorik_sutunlar]\n",
        "\n",
        "# Pozisyon vektörü\n",
        "word2vec = Word2Vec(vectorSize=10, minCount=1, inputCol=\"Pozisyon_Token\", outputCol=\"Pozisyon_Vec\")\n",
        "\n",
        "\n",
        "assembler = VectorAssembler(\n",
        "    inputCols=[\"Uzaktan_Calisma_Orani\", \"Pozisyon_Vec\"] + [col + \"_Vec\" for col in kategorik_sutunlar],\n",
        "    outputCol=\"features\"\n",
        ")\n",
        "\n",
        "# 7. Pipeline tanımı ve uygulaması\n",
        "pipeline = Pipeline(stages=indexers + encoders + [word2vec, assembler])\n",
        "pipeline_model = pipeline.fit(df)\n",
        "df_transformed = pipeline_model.transform(df)\n",
        "\n",
        "# 8. Sonuç: features + hedef değişken\n",
        "df_transformed.select(\"features\", \"Log_Maas_USD\").show(5, truncate=False)\n"
      ],
      "metadata": {
        "colab": {
          "base_uri": "https://localhost:8080/"
        },
        "id": "RM0TyN2AjtB7",
        "outputId": "898dc5af-a463-4e69-ceca-6ddbfebdad7d"
      },
      "execution_count": 18,
      "outputs": [
        {
          "output_type": "stream",
          "name": "stdout",
          "text": [
            "+---------------------------------------------------------------------------------------------------------------------------------------------------------------------------------------------------------------------------------------------------------------------------------------+------------------+\n",
            "|features                                                                                                                                                                                                                                                                               |Log_Maas_USD      |\n",
            "+---------------------------------------------------------------------------------------------------------------------------------------------------------------------------------------------------------------------------------------------------------------------------------------+------------------+\n",
            "|(124,[1,2,3,4,5,6,7,8,9,10,12,14,18,23,78],[-0.07917275279760361,0.17954810708761215,-0.13680896162986755,0.11029914766550064,0.03285581059753895,0.16857144236564636,0.0659734308719635,-0.07491271942853928,-0.03279382718028501,-0.13312166929244995,1.0,1.0,1.0,1.0,1.0])          |11.28770475786082 |\n",
            "|(124,[1,2,3,4,5,6,7,8,9,10,11,14,27,83],[-0.0013389519105354943,-0.04981364806493123,0.11841268340746561,-0.005086374779542287,0.016872084389130272,-0.1800783301393191,-0.03896178801854451,0.06246172140041987,0.056708759434210755,0.07041154041265447,1.0,1.0,1.0,1.0])            |12.468440756144114|\n",
            "|(124,[0,1,2,3,4,5,6,7,8,9,10,11,14,17,20,76],[50.0,-0.027176253497600555,0.04955524019896984,-0.08627710801859696,0.04174335882999003,0.008011974394321442,0.0641976169620951,0.024446810285250344,0.01453951746225357,0.016602488855520882,-0.08387295342981815,1.0,1.0,1.0,1.0,1.0]) |11.599332492710968|\n",
            "|(124,[1,2,3,4,5,6,7,8,9,10,12,14,59,109],[-0.060105429574226335,0.1390424221754074,-0.12047128627697626,0.06594539348346491,0.03185051803787549,0.14925126979748407,0.08690556138753891,-0.05522806042184432,-0.048743560910224915,-0.10221822932362556,1.0,1.0,1.0,1.0])              |9.90353755128617  |\n",
            "|(124,[0,1,2,3,4,5,6,7,8,9,10,11,14,18,19,75],[50.0,0.013722866152723629,-0.1299811800320943,0.13173529505729675,-0.054129223416869834,-0.009818946321805317,-0.22324393441279727,-0.048783689737319946,0.1107751801609993,0.08009186262885729,0.08215014869347215,1.0,1.0,1.0,1.0,1.0])|11.918397239722838|\n",
            "+---------------------------------------------------------------------------------------------------------------------------------------------------------------------------------------------------------------------------------------------------------------------------------------+------------------+\n",
            "only showing top 5 rows\n",
            "\n"
          ]
        }
      ]
    },
    {
      "cell_type": "code",
      "source": [
        "from pyspark.sql.functions import col\n",
        "import random\n",
        "\n",
        "# Eğitim ve test setlerini tutacak listeler\n",
        "train_parts = []\n",
        "test_parts = []\n",
        "\n",
        "# Benzersiz kombinasyonları almak icin\n",
        "combinations = df_transformed.select(\"Pozisyon\", \"Deneyim_Seviyesi\").distinct().collect()\n",
        "\n",
        "# Her kombinasyonu döngüyle işleriz\n",
        "for row in combinations:\n",
        "    poz = row[\"Pozisyon\"]\n",
        "    deneyim = row[\"Deneyim_Seviyesi\"]\n",
        "\n",
        "    subset = df_transformed.filter((col(\"Pozisyon\") == poz) & (col(\"Deneyim_Seviyesi\") == deneyim))\n",
        "    train_subset, test_subset = subset.randomSplit([0.7, 0.3], seed=random.randint(1, 9999))\n",
        "\n",
        "    train_parts.append(train_subset)\n",
        "    test_parts.append(test_subset)\n",
        "\n",
        "# Eğitim ve test parçalarını birleştirme islemi\n",
        "train_df = train_parts[0]\n",
        "for part in train_parts[1:]:\n",
        "    train_df = train_df.union(part)\n",
        "\n",
        "test_df = test_parts[0]\n",
        "for part in test_parts[1:]:\n",
        "    test_df = test_df.union(part)\n",
        "\n",
        "# Sonuçları görelim\n",
        "print(\" Eğitim verisi:\", train_df.count())\n",
        "print(\"🧪Test verisi  :\", test_df.count())\n"
      ],
      "metadata": {
        "colab": {
          "base_uri": "https://localhost:8080/"
        },
        "id": "9XQCn7HSwNB0",
        "outputId": "e7ad0938-548b-4d54-b639-5c9667d3099d"
      },
      "execution_count": 25,
      "outputs": [
        {
          "output_type": "stream",
          "name": "stdout",
          "text": [
            "🎓 Eğitim verisi: 435\n",
            "🧪 Test verisi  : 172\n"
          ]
        }
      ]
    },
    {
      "cell_type": "code",
      "source": [
        "!pip install pyspark\n"
      ],
      "metadata": {
        "colab": {
          "base_uri": "https://localhost:8080/"
        },
        "id": "wIjR1c0oysLL",
        "outputId": "d0cefd7b-6f05-431b-db72-77f345e3c910"
      },
      "execution_count": 26,
      "outputs": [
        {
          "output_type": "stream",
          "name": "stdout",
          "text": [
            "Requirement already satisfied: pyspark in /usr/local/lib/python3.11/dist-packages (3.5.1)\n",
            "Requirement already satisfied: py4j==0.10.9.7 in /usr/local/lib/python3.11/dist-packages (from pyspark) (0.10.9.7)\n"
          ]
        }
      ]
    },
    {
      "cell_type": "code",
      "source": [
        "from pyspark.ml.regression import RandomForestRegressor\n",
        "from pyspark.ml.evaluation import RegressionEvaluator\n",
        "\n",
        "# Model tanımla, eğit, test et\n",
        "rf = RandomForestRegressor(\n",
        "    featuresCol=\"features\",\n",
        "    labelCol=\"Log_Maas_USD\",\n",
        "    predictionCol=\"prediction\",\n",
        "    numTrees=100,\n",
        "    maxDepth=10,\n",
        "    seed=42\n",
        ")\n",
        "\n",
        "rf_model = rf.fit(train_df)  #modeli egitme\n",
        "predictions = rf_model.transform(test_df) #tahmin yapma\n",
        "\n",
        "# Metrikleri hesaplama modelin basarisini  degerlendirme\n",
        "evaluator_rmse = RegressionEvaluator(\n",
        "    labelCol=\"Log_Maas_USD\", predictionCol=\"prediction\", metricName=\"rmse\")\n",
        "evaluator_mae = RegressionEvaluator(\n",
        "    labelCol=\"Log_Maas_USD\", predictionCol=\"prediction\", metricName=\"mae\")\n",
        "evaluator_r2 = RegressionEvaluator(\n",
        "    labelCol=\"Log_Maas_USD\", predictionCol=\"prediction\", metricName=\"r2\")\n",
        "\n",
        "rmse = evaluator_rmse.evaluate(predictions)\n",
        "mae = evaluator_mae.evaluate(predictions)\n",
        "r2 = evaluator_r2.evaluate(predictions)\n",
        "\n",
        "(rmse, mae, r2)\n"
      ],
      "metadata": {
        "colab": {
          "base_uri": "https://localhost:8080/"
        },
        "id": "dWXRHFWe0pu6",
        "outputId": "9ceabd04-f27f-4d74-969f-77418c8c89f7"
      },
      "execution_count": 27,
      "outputs": [
        {
          "output_type": "execute_result",
          "data": {
            "text/plain": [
              "(0.5456721626201144, 0.3709083931344195, 0.5350617387294183)"
            ]
          },
          "metadata": {},
          "execution_count": 27
        }
      ]
    },
    {
      "cell_type": "code",
      "source": [
        "import pandas as pd   #özellik etkisi\n",
        "import matplotlib.pyplot as plt\n",
        "\n",
        "# Özellik isimlerini alma\n",
        "feature_names = rf_model.featureImportances.toArray()\n",
        "num_features = len(feature_names)\n",
        "\n",
        "# Görselleştirmek için DataFrame\n",
        "importance_df = pd.DataFrame({\n",
        "    \"Özellik No\": [f\"F{i}\" for i in range(num_features)],\n",
        "    \"Önemi\": rf_model.featureImportances.toArray()\n",
        "}).sort_values(\"Önemi\", ascending=False)\n",
        "\n",
        "# Grafik çiz\n",
        "plt.figure(figsize=(12, 6))\n",
        "plt.bar(importance_df[\"Özellik No\"], importance_df[\"Önemi\"])\n",
        "plt.title(\"Özellik Önem Dağılımı – Random Forest\")\n",
        "plt.xlabel(\"Özellikler\")\n",
        "plt.ylabel(\"Önemi\")\n",
        "plt.xticks(rotation=90)\n",
        "plt.tight_layout()\n",
        "plt.show()\n"
      ],
      "metadata": {
        "colab": {
          "base_uri": "https://localhost:8080/",
          "height": 427
        },
        "id": "4vVNYdfi6Fp1",
        "outputId": "fef2aaaf-e20c-4e71-ea6c-b37660490d74"
      },
      "execution_count": 28,
      "outputs": [
        {
          "output_type": "stream",
          "name": "stderr",
          "text": [
            "<ipython-input-28-0c0e44fee06f>:21: UserWarning: Glyph 127919 (\\N{DIRECT HIT}) missing from font(s) DejaVu Sans.\n",
            "  plt.tight_layout()\n",
            "/usr/local/lib/python3.11/dist-packages/IPython/core/pylabtools.py:151: UserWarning: Glyph 127919 (\\N{DIRECT HIT}) missing from font(s) DejaVu Sans.\n",
            "  fig.canvas.print_figure(bytes_io, **kw)\n"
          ]
        },
        {
          "output_type": "display_data",
          "data": {
            "text/plain": [
              "<Figure size 1200x600 with 1 Axes>"
            ],
            "image/png": "[encoded data removed]"
          },
          "metadata": {}
        }
      ]
    },
    {
      "cell_type": "code",
      "source": [
        "from pyspark.ml.regression import RandomForestRegressor\n",
        "\n",
        "rf = RandomForestRegressor(\n",
        "    featuresCol=\"features\",\n",
        "    labelCol=\"Log_Maas_USD\",\n",
        "    predictionCol=\"prediction\",\n",
        "    numTrees=100,\n",
        "    maxDepth=10,\n",
        "    seed=42\n",
        ")\n",
        "\n",
        "rf_model = rf.fit(train_df)  # Bu satır kritik\n"
      ],
      "metadata": {
        "id": "-jOX2hWR7VAl"
      },
      "execution_count": 29,
      "outputs": []
    },
    {
      "cell_type": "code",
      "source": [
        "importances = rf_model.featureImportances.toArray()\n",
        "auto_features = [f\"F{i}\" for i in range(len(importances))]\n",
        "\n",
        "import pandas as pd\n",
        "importances_df = pd.DataFrame({\n",
        "    \"Özellik\": auto_features,\n",
        "    \"Önemi\": importances\n",
        "}).sort_values(\"Önemi\", ascending=False).reset_index(drop=True)\n",
        "\n",
        "importances_df.head(15)\n"
      ],
      "metadata": {
        "colab": {
          "base_uri": "https://localhost:8080/",
          "height": 520
        },
        "id": "shLQ3KVLAm5_",
        "outputId": "19738e96-de0e-4642-d1d4-600fe0df3ffa"
      },
      "execution_count": 31,
      "outputs": [
        {
          "output_type": "execute_result",
          "data": {
            "text/plain": [
              "   Özellik     Önemi\n",
              "0      F19  0.212996\n",
              "1      F75  0.141342\n",
              "2      F21  0.058397\n",
              "3      F13  0.049917\n",
              "4      F11  0.040946\n",
              "5      F79  0.040580\n",
              "6       F1  0.030398\n",
              "7       F2  0.026270\n",
              "8       F9  0.024969\n",
              "9      F39  0.023144\n",
              "10      F5  0.022355\n",
              "11     F12  0.021319\n",
              "12      F3  0.020666\n",
              "13      F8  0.020577\n",
              "14     F14  0.019674"
            ],
            "text/html": [
              "\n",
              "  <div id=\"df-99062146-26a6-49b2-a677-7598169d1b1e\" class=\"colab-df-container\">\n",
              "    <div>\n",
              "<style scoped>\n",
              "    .dataframe tbody tr th:only-of-type {\n",
              "        vertical-align: middle;\n",
              "    }\n",
              "\n",
              "    .dataframe tbody tr th {\n",
              "        vertical-align: top;\n",
              "    }\n",
              "\n",
              "    .dataframe thead th {\n",
              "        text-align: right;\n",
              "    }\n",
              "</style>\n",
              "<table border=\"1\" class=\"dataframe\">\n",
              "  <thead>\n",
              "    <tr style=\"text-align: right;\">\n",
              "      <th></th>\n",
              "      <th>Özellik</th>\n",
              "      <th>Önemi</th>\n",
              "    </tr>\n",
              "  </thead>\n",
              "  <tbody>\n",
              "    <tr>\n",
              "      <th>0</th>\n",
              "      <td>F19</td>\n",
              "      <td>0.212996</td>\n",
              "    </tr>\n",
              "    <tr>\n",
              "      <th>1</th>\n",
              "      <td>F75</td>\n",
              "      <td>0.141342</td>\n",
              "    </tr>\n",
              "    <tr>\n",
              "      <th>2</th>\n",
              "      <td>F21</td>\n",
              "      <td>0.058397</td>\n",
              "    </tr>\n",
              "    <tr>\n",
              "      <th>3</th>\n",
              "      <td>F13</td>\n",
              "      <td>0.049917</td>\n",
              "    </tr>\n",
              "    <tr>\n",
              "      <th>4</th>\n",
              "      <td>F11</td>\n",
              "      <td>0.040946</td>\n",
              "    </tr>\n",
              "    <tr>\n",
              "      <th>5</th>\n",
              "      <td>F79</td>\n",
              "      <td>0.040580</td>\n",
              "    </tr>\n",
              "    <tr>\n",
              "      <th>6</th>\n",
              "      <td>F1</td>\n",
              "      <td>0.030398</td>\n",
              "    </tr>\n",
              "    <tr>\n",
              "      <th>7</th>\n",
              "      <td>F2</td>\n",
              "      <td>0.026270</td>\n",
              "    </tr>\n",
              "    <tr>\n",
              "      <th>8</th>\n",
              "      <td>F9</td>\n",
              "      <td>0.024969</td>\n",
              "    </tr>\n",
              "    <tr>\n",
              "      <th>9</th>\n",
              "      <td>F39</td>\n",
              "      <td>0.023144</td>\n",
              "    </tr>\n",
              "    <tr>\n",
              "      <th>10</th>\n",
              "      <td>F5</td>\n",
              "      <td>0.022355</td>\n",
              "    </tr>\n",
              "    <tr>\n",
              "      <th>11</th>\n",
              "      <td>F12</td>\n",
              "      <td>0.021319</td>\n",
              "    </tr>\n",
              "    <tr>\n",
              "      <th>12</th>\n",
              "      <td>F3</td>\n",
              "      <td>0.020666</td>\n",
              "    </tr>\n",
              "    <tr>\n",
              "      <th>13</th>\n",
              "      <td>F8</td>\n",
              "      <td>0.020577</td>\n",
              "    </tr>\n",
              "    <tr>\n",
              "      <th>14</th>\n",
              "      <td>F14</td>\n",
              "      <td>0.019674</td>\n",
              "    </tr>\n",
              "  </tbody>\n",
              "</table>\n",
              "</div>\n",
              "    <div class=\"colab-df-buttons\">\n",
              "\n",
              "  <div class=\"colab-df-container\">\n",
              "    <button class=\"colab-df-convert\" onclick=\"convertToInteractive('df-99062146-26a6-49b2-a677-7598169d1b1e')\"\n",
              "            title=\"Convert this dataframe to an interactive table.\"\n",
              "            style=\"display:none;\">\n",
              "\n",
              "  <svg xmlns=\"http://www.w3.org/2000/svg\" height=\"24px\" viewBox=\"0 -960 960 960\">\n",
              "    <path d=\"M120-120v-720h720v720H120Zm60-500h600v-160H180v160Zm220 220h160v-160H400v160Zm0 220h160v-160H400v160ZM180-400h160v-160H180v160Zm440 0h160v-160H620v160ZM180-180h160v-160H180v160Zm440 0h160v-160H620v160Z\"/>\n",
              "  </svg>\n",
              "    </button>\n",
              "\n",
              "  <style>\n",
              "    .colab-df-container {\n",
              "      display:flex;\n",
              "      gap: 12px;\n",
              "    }\n",
              "\n",
              "    .colab-df-convert {\n",
              "      background-color: #E8F0FE;\n",
              "      border: none;\n",
              "      border-radius: 50%;\n",
              "      cursor: pointer;\n",
              "      display: none;\n",
              "      fill: #1967D2;\n",
              "      height: 32px;\n",
              "      padding: 0 0 0 0;\n",
              "      width: 32px;\n",
              "    }\n",
              "\n",
              "    .colab-df-convert:hover {\n",
              "      background-color: #E2EBFA;\n",
              "      box-shadow: 0px 1px 2px rgba(60, 64, 67, 0.3), 0px 1px 3px 1px rgba(60, 64, 67, 0.15);\n",
              "      fill: #174EA6;\n",
              "    }\n",
              "\n",
              "    .colab-df-buttons div {\n",
              "      margin-bottom: 4px;\n",
              "    }\n",
              "\n",
              "    [theme=dark] .colab-df-convert {\n",
              "      background-color: #3B4455;\n",
              "      fill: #D2E3FC;\n",
              "    }\n",
              "\n",
              "    [theme=dark] .colab-df-convert:hover {\n",
              "      background-color: #434B5C;\n",
              "      box-shadow: 0px 1px 3px 1px rgba(0, 0, 0, 0.15);\n",
              "      filter: drop-shadow(0px 1px 2px rgba(0, 0, 0, 0.3));\n",
              "      fill: #FFFFFF;\n",
              "    }\n",
              "  </style>\n",
              "\n",
              "    <script>\n",
              "      const buttonEl =\n",
              "        document.querySelector('#df-99062146-26a6-49b2-a677-7598169d1b1e button.colab-df-convert');\n",
              "      buttonEl.style.display =\n",
              "        google.colab.kernel.accessAllowed ? 'block' : 'none';\n",
              "\n",
              "      async function convertToInteractive(key) {\n",
              "        const element = document.querySelector('#df-99062146-26a6-49b2-a677-7598169d1b1e');\n",
              "        const dataTable =\n",
              "          await google.colab.kernel.invokeFunction('convertToInteractive',\n",
              "                                                    [key], {});\n",
              "        if (!dataTable) return;\n",
              "\n",
              "        const docLinkHtml = 'Like what you see? Visit the ' +\n",
              "          '<a target=\"_blank\" href=https://colab.research.google.com/notebooks/data_table.ipynb>data table notebook</a>'\n",
              "          + ' to learn more about interactive tables.';\n",
              "        element.innerHTML = '';\n",
              "        dataTable['output_type'] = 'display_data';\n",
              "        await google.colab.output.renderOutput(dataTable, element);\n",
              "        const docLink = document.createElement('div');\n",
              "        docLink.innerHTML = docLinkHtml;\n",
              "        element.appendChild(docLink);\n",
              "      }\n",
              "    </script>\n",
              "  </div>\n",
              "\n",
              "\n",
              "    <div id=\"df-258bef45-fdb4-44fe-8488-457afb1cefb0\">\n",
              "      <button class=\"colab-df-quickchart\" onclick=\"quickchart('df-258bef45-fdb4-44fe-8488-457afb1cefb0')\"\n",
              "                title=\"Suggest charts\"\n",
              "                style=\"display:none;\">\n",
              "\n",
              "<svg xmlns=\"http://www.w3.org/2000/svg\" height=\"24px\"viewBox=\"0 0 24 24\"\n",
              "     width=\"24px\">\n",
              "    <g>\n",
              "        <path d=\"M19 3H5c-1.1 0-2 .9-2 2v14c0 1.1.9 2 2 2h14c1.1 0 2-.9 2-2V5c0-1.1-.9-2-2-2zM9 17H7v-7h2v7zm4 0h-2V7h2v10zm4 0h-2v-4h2v4z\"/>\n",
              "    </g>\n",
              "</svg>\n",
              "      </button>\n",
              "\n",
              "<style>\n",
              "  .colab-df-quickchart {\n",
              "      --bg-color: #E8F0FE;\n",
              "      --fill-color: #1967D2;\n",
              "      --hover-bg-color: #E2EBFA;\n",
              "      --hover-fill-color: #174EA6;\n",
              "      --disabled-fill-color: #AAA;\n",
              "      --disabled-bg-color: #DDD;\n",
              "  }\n",
              "\n",
              "  [theme=dark] .colab-df-quickchart {\n",
              "      --bg-color: #3B4455;\n",
              "      --fill-color: #D2E3FC;\n",
              "      --hover-bg-color: #434B5C;\n",
              "      --hover-fill-color: #FFFFFF;\n",
              "      --disabled-bg-color: #3B4455;\n",
              "      --disabled-fill-color: #666;\n",
              "  }\n",
              "\n",
              "  .colab-df-quickchart {\n",
              "    background-color: var(--bg-color);\n",
              "    border: none;\n",
              "    border-radius: 50%;\n",
              "    cursor: pointer;\n",
              "    display: none;\n",
              "    fill: var(--fill-color);\n",
              "    height: 32px;\n",
              "    padding: 0;\n",
              "    width: 32px;\n",
              "  }\n",
              "\n",
              "  .colab-df-quickchart:hover {\n",
              "    background-color: var(--hover-bg-color);\n",
              "    box-shadow: 0 1px 2px rgba(60, 64, 67, 0.3), 0 1px 3px 1px rgba(60, 64, 67, 0.15);\n",
              "    fill: var(--button-hover-fill-color);\n",
              "  }\n",
              "\n",
              "  .colab-df-quickchart-complete:disabled,\n",
              "  .colab-df-quickchart-complete:disabled:hover {\n",
              "    background-color: var(--disabled-bg-color);\n",
              "    fill: var(--disabled-fill-color);\n",
              "    box-shadow: none;\n",
              "  }\n",
              "\n",
              "  .colab-df-spinner {\n",
              "    border: 2px solid var(--fill-color);\n",
              "    border-color: transparent;\n",
              "    border-bottom-color: var(--fill-color);\n",
              "    animation:\n",
              "      spin 1s steps(1) infinite;\n",
              "  }\n",
              "\n",
              "  @keyframes spin {\n",
              "    0% {\n",
              "      border-color: transparent;\n",
              "      border-bottom-color: var(--fill-color);\n",
              "      border-left-color: var(--fill-color);\n",
              "    }\n",
              "    20% {\n",
              "      border-color: transparent;\n",
              "      border-left-color: var(--fill-color);\n",
              "      border-top-color: var(--fill-color);\n",
              "    }\n",
              "    30% {\n",
              "      border-color: transparent;\n",
              "      border-left-color: var(--fill-color);\n",
              "      border-top-color: var(--fill-color);\n",
              "      border-right-color: var(--fill-color);\n",
              "    }\n",
              "    40% {\n",
              "      border-color: transparent;\n",
              "      border-right-color: var(--fill-color);\n",
              "      border-top-color: var(--fill-color);\n",
              "    }\n",
              "    60% {\n",
              "      border-color: transparent;\n",
              "      border-right-color: var(--fill-color);\n",
              "    }\n",
              "    80% {\n",
              "      border-color: transparent;\n",
              "      border-right-color: var(--fill-color);\n",
              "      border-bottom-color: var(--fill-color);\n",
              "    }\n",
              "    90% {\n",
              "      border-color: transparent;\n",
              "      border-bottom-color: var(--fill-color);\n",
              "    }\n",
              "  }\n",
              "</style>\n",
              "\n",
              "      <script>\n",
              "        async function quickchart(key) {\n",
              "          const quickchartButtonEl =\n",
              "            document.querySelector('#' + key + ' button');\n",
              "          quickchartButtonEl.disabled = true;  // To prevent multiple clicks.\n",
              "          quickchartButtonEl.classList.add('colab-df-spinner');\n",
              "          try {\n",
              "            const charts = await google.colab.kernel.invokeFunction(\n",
              "                'suggestCharts', [key], {});\n",
              "          } catch (error) {\n",
              "            console.error('Error during call to suggestCharts:', error);\n",
              "          }\n",
              "          quickchartButtonEl.classList.remove('colab-df-spinner');\n",
              "          quickchartButtonEl.classList.add('colab-df-quickchart-complete');\n",
              "        }\n",
              "        (() => {\n",
              "          let quickchartButtonEl =\n",
              "            document.querySelector('#df-258bef45-fdb4-44fe-8488-457afb1cefb0 button');\n",
              "          quickchartButtonEl.style.display =\n",
              "            google.colab.kernel.accessAllowed ? 'block' : 'none';\n",
              "        })();\n",
              "      </script>\n",
              "    </div>\n",
              "\n",
              "    </div>\n",
              "  </div>\n"
            ],
            "application/vnd.google.colaboratory.intrinsic+json": {
              "type": "dataframe",
              "variable_name": "importances_df",
              "summary": "{\n  \"name\": \"importances_df\",\n  \"rows\": 124,\n  \"fields\": [\n    {\n      \"column\": \"\\u00d6zellik\",\n      \"properties\": {\n        \"dtype\": \"string\",\n        \"num_unique_values\": 124,\n        \"samples\": [\n          \"F0\",\n          \"F92\",\n          \"F32\"\n        ],\n        \"semantic_type\": \"\",\n        \"description\": \"\"\n      }\n    },\n    {\n      \"column\": \"\\u00d6nemi\",\n      \"properties\": {\n        \"dtype\": \"number\",\n        \"std\": 0.02454185067753129,\n        \"min\": 0.0,\n        \"max\": 0.2129955223130715,\n        \"num_unique_values\": 111,\n        \"samples\": [\n          0.0002810265638274672,\n          0.022354889000486797,\n          0.04094585478369233\n        ],\n        \"semantic_type\": \"\",\n        \"description\": \"\"\n      }\n    }\n  ]\n}"
            }
          },
          "metadata": {},
          "execution_count": 31
        }
      ]
    },
    {
      "cell_type": "code",
      "source": [
        "!pip install pyspark\n"
      ],
      "metadata": {
        "colab": {
          "base_uri": "https://localhost:8080/"
        },
        "id": "Xz9bgTDSBLnN",
        "outputId": "80569a09-28f7-47f4-e875-e54c0038a47d"
      },
      "execution_count": 33,
      "outputs": [
        {
          "output_type": "stream",
          "name": "stdout",
          "text": [
            "Requirement already satisfied: pyspark in /usr/local/lib/python3.11/dist-packages (3.5.1)\n",
            "Requirement already satisfied: py4j==0.10.9.7 in /usr/local/lib/python3.11/dist-packages (from pyspark) (0.10.9.7)\n"
          ]
        }
      ]
    },
    {
      "cell_type": "code",
      "source": [
        "from pyspark import StorageLevel\n",
        "\n",
        "df_transformed.persist(StorageLevel.MEMORY_AND_DISK)\n",
        "df_transformed.count()  # bu satır cache’i aktif eder\n"
      ],
      "metadata": {
        "colab": {
          "base_uri": "https://localhost:8080/"
        },
        "id": "LzsbxmZNLpAm",
        "outputId": "50647efb-625a-429a-8656-6df30f6b3450"
      },
      "execution_count": 37,
      "outputs": [
        {
          "output_type": "execute_result",
          "data": {
            "text/plain": [
              "607"
            ]
          },
          "metadata": {},
          "execution_count": 37
        }
      ]
    },
    {
      "cell_type": "code",
      "source": [
        "train_df.write.mode(\"overwrite\").parquet(\"/content/train_df.parquet\")#dag problemi icin amac zamani kisaltmak\n",
        "test_df.write.mode(\"overwrite\").parquet(\"/content/test_df.parquet\")\n"
      ],
      "metadata": {
        "id": "ygetsgwaPYOr"
      },
      "execution_count": 40,
      "outputs": []
    },
    {
      "cell_type": "code",
      "source": [
        "train_df = spark.read.parquet(\"/content/train_df.parquet\")\n",
        "test_df = spark.read.parquet(\"/content/test_df.parquet\")\n"
      ],
      "metadata": {
        "id": "fT45UItgQOQq"
      },
      "execution_count": 41,
      "outputs": []
    },
    {
      "cell_type": "code",
      "source": [
        "#ilk tuning islemi\n",
        "from pyspark.ml.regression import RandomForestRegressor\n",
        "from pyspark.ml.evaluation import RegressionEvaluator\n",
        "\n",
        "# Modeli tanımla\n",
        "rf = RandomForestRegressor(\n",
        "    featuresCol=\"features\",\n",
        "    labelCol=\"Log_Maas_USD\",\n",
        "    predictionCol=\"prediction\",\n",
        "    numTrees=50,\n",
        "    maxDepth=5,\n",
        "    seed=42\n",
        ")\n",
        "\n",
        "# Eğitimi başlatma\n",
        "model = rf.fit(train_df)\n",
        "\n",
        "# Tahmin yapma\n",
        "predictions = model.transform(test_df)\n",
        "\n",
        "# R² skorunu hesaplama\n",
        "evaluator = RegressionEvaluator(\n",
        "    labelCol=\"Log_Maas_USD\",\n",
        "    predictionCol=\"prediction\",\n",
        "    metricName=\"r2\"\n",
        ")\n",
        "\n",
        "r2_score = evaluator.evaluate(predictions)\n",
        "print(\" R² Skoru (numTrees=50, maxDepth=5):\", round(r2_score, 4))\n"
      ],
      "metadata": {
        "colab": {
          "base_uri": "https://localhost:8080/"
        },
        "id": "gZw8xBsfQjWD",
        "outputId": "6543aa14-c4c2-44fe-cd50-9c8f07065683"
      },
      "execution_count": 42,
      "outputs": [
        {
          "output_type": "stream",
          "name": "stdout",
          "text": [
            "🎯 R² Skoru (numTrees=50, maxDepth=5): 0.5265\n"
          ]
        }
      ]
    },
    {
      "cell_type": "code",
      "source": [
        "#ikinci tuning denemesi\n",
        "rf = RandomForestRegressor(\n",
        "    featuresCol=\"features\",\n",
        "    labelCol=\"Log_Maas_USD\",\n",
        "    predictionCol=\"prediction\",\n",
        "    numTrees=100,\n",
        "    maxDepth=10,\n",
        "    seed=42\n",
        ")\n",
        "\n",
        "model = rf.fit(train_df)\n",
        "\n",
        "predictions = model.transform(test_df)\n",
        "\n",
        "evaluator = RegressionEvaluator(\n",
        "    labelCol=\"Log_Maas_USD\",\n",
        "    predictionCol=\"prediction\",\n",
        "    metricName=\"r2\"\n",
        ")\n",
        "\n",
        "r2_score = evaluator.evaluate(predictions)\n",
        "print(\" R² Skoru (numTrees=100, maxDepth=10):\", round(r2_score, 4))\n"
      ],
      "metadata": {
        "colab": {
          "base_uri": "https://localhost:8080/"
        },
        "id": "3LxNba1dQ-1F",
        "outputId": "0d1288e8-d401-4edf-e0d1-6a04d21ea0df"
      },
      "execution_count": 43,
      "outputs": [
        {
          "output_type": "stream",
          "name": "stdout",
          "text": [
            " R² Skoru (numTrees=100, maxDepth=10): 0.5407\n"
          ]
        }
      ]
    },
    {
      "cell_type": "code",
      "source": [
        "#ücüncü tuning denemsi\n",
        "rf = RandomForestRegressor(\n",
        "    featuresCol=\"features\",\n",
        "    labelCol=\"Log_Maas_USD\",\n",
        "    predictionCol=\"prediction\",\n",
        "    numTrees=150,\n",
        "    maxDepth=15,\n",
        "    seed=42\n",
        ")\n",
        "\n",
        "model = rf.fit(train_df)\n",
        "\n",
        "predictions = model.transform(test_df)\n",
        "\n",
        "evaluator = RegressionEvaluator(\n",
        "    labelCol=\"Log_Maas_USD\",\n",
        "    predictionCol=\"prediction\",\n",
        "    metricName=\"r2\"\n",
        ")\n",
        "\n",
        "r2_score = evaluator.evaluate(predictions)\n",
        "print(\" R² Skoru (numTrees=150, maxDepth=15):\", round(r2_score, 4))\n"
      ],
      "metadata": {
        "colab": {
          "base_uri": "https://localhost:8080/"
        },
        "id": "fQpDEnbJRayT",
        "outputId": "e45d5b3e-18f6-47d3-8813-57f114ecd43a"
      },
      "execution_count": 44,
      "outputs": [
        {
          "output_type": "stream",
          "name": "stdout",
          "text": [
            "🎯 R² Skoru (numTrees=150, maxDepth=15): 0.5333\n"
          ]
        }
      ]
    }
  ]
}
