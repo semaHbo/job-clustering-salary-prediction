{
  "nbformat": 4,
  "nbformat_minor": 0,
  "metadata": {
    "colab": {
      "provenance": [],
      "authorship_tag": "ABX9TyNVhK2lndbvfWfg25dAxPFR",
      "include_colab_link": true
    },
    "kernelspec": {
      "name": "python3",
      "display_name": "Python 3"
    },
    "language_info": {
      "name": "python"
    }
  },
  "cells": [
    {
      "cell_type": "markdown",
      "metadata": {
        "id": "view-in-github",
        "colab_type": "text"
      },
      "source": [
        "<a href=\"https://colab.research.google.com/github/semaHbo/job-clustering-salary-prediction/blob/main/feature_engineering_2.ipynb\" target=\"_parent\"><img src=\"https://colab.research.google.com/assets/colab-badge.svg\" alt=\"Open In Colab\"/></a>"
      ]
    },
    {
      "cell_type": "code",
      "execution_count": null,
      "metadata": {
        "colab": {
          "base_uri": "https://localhost:8080/"
        },
        "id": "WhHkJJTPLcw8",
        "outputId": "7e0519c4-f4ac-455c-cea5-0f7cf8e6987c"
      },
      "outputs": [
        {
          "output_type": "stream",
          "name": "stdout",
          "text": [
            "Mounted at /content/drive\n"
          ]
        }
      ],
      "source": [
        "\n",
        "from google.colab import drive\n",
        "drive.mount('/content/drive')\n",
        "\n",
        "from pyspark.sql import SparkSession\n",
        "\n",
        "spark = SparkSession.builder \\\n",
        "    .appName(\"Yeni Feature Engineering\") \\\n",
        "    .getOrCreate()"
      ]
    },
    {
      "cell_type": "code",
      "source": [
        "\n",
        "train_df = spark.read.parquet(\"/content/drive/MyDrive/datasets/train_df.parquet\")\n",
        "test_df = spark.read.parquet(\"/content/drive/MyDrive/datasets/test_df.parquet\")\n",
        "\n",
        "df_all = train_df.union(test_df)\n"
      ],
      "metadata": {
        "id": "hVXQugcML5wn"
      },
      "execution_count": null,
      "outputs": []
    },
    {
      "cell_type": "code",
      "source": [
        "from pyspark.sql.functions import when\n",
        "\n",
        "df_all = df_all.withColumn(\n",
        "    \"Remote_Tipi\",\n",
        "    when(df_all[\"Uzaktan_Calisma_Orani\"] == 0, \"Yerinde\")\n",
        "    .when((df_all[\"Uzaktan_Calisma_Orani\"] > 0) & (df_all[\"Uzaktan_Calisma_Orani\"] < 100), \"Hibrit\")\n",
        "    .otherwise(\"Uzaktan\")\n",
        ")\n"
      ],
      "metadata": {
        "id": "6q_tCxiLMAIe"
      },
      "execution_count": null,
      "outputs": []
    },
    {
      "cell_type": "code",
      "source": [
        "kita_map = {\n",
        "    \"US\": \"Kuzey Amerika\", \"CA\": \"Kuzey Amerika\", \"MX\": \"Kuzey Amerika\",\n",
        "    \"GB\": \"Avrupa\", \"DE\": \"Avrupa\", \"FR\": \"Avrupa\", \"ES\": \"Avrupa\", \"PT\": \"Avrupa\", \"NL\": \"Avrupa\", \"PL\": \"Avrupa\", \"IT\": \"Avrupa\", \"GR\": \"Avrupa\", \"IE\": \"Avrupa\", \"BE\": \"Avrupa\", \"CH\": \"Avrupa\",\n",
        "    \"IN\": \"Asya\", \"CN\": \"Asya\", \"JP\": \"Asya\", \"VN\": \"Asya\", \"SG\": \"Asya\", \"PH\": \"Asya\", \"MY\": \"Asya\",\n",
        "    \"BR\": \"Güney Amerika\", \"AR\": \"Güney Amerika\", \"CO\": \"Güney Amerika\", \"CL\": \"Güney Amerika\",\n",
        "    \"AU\": \"Okyanusya\", \"NZ\": \"Okyanusya\",\n",
        "    \"ZA\": \"Afrika\", \"NG\": \"Afrika\", \"KE\": \"Afrika\", \"EG\": \"Afrika\",\n",
        "    \"HN\": \"Orta Amerika\",\n",
        "    \"HU\": \"Avrupa\", \"RO\": \"Avrupa\", \"HR\": \"Avrupa\", \"TR\": \"Avrupa\",\n",
        "}\n"
      ],
      "metadata": {
        "id": "qmLYBq6XMXeH"
      },
      "execution_count": null,
      "outputs": []
    },
    {
      "cell_type": "code",
      "source": [
        "from pyspark.sql.functions import udf\n",
        "from pyspark.sql.types import StringType\n",
        "\n",
        "# Kıta eşleme fonksiyonu\n",
        "def ulke_to_kita(ulke_kodu):\n",
        "    return kita_map.get(ulke_kodu, \"Bilinmeyen\")\n",
        "\n",
        "# UDF tanımla\n",
        "ulke_to_kita_udf = udf(ulke_to_kita, StringType())\n",
        "\n",
        "# Yeni sütunu ekle\n",
        "df_all = df_all.withColumn(\"Kita\", ulke_to_kita_udf(df_all[\"Sirket_Ulke\"]))\n"
      ],
      "metadata": {
        "id": "PJIfXZXnNLMT"
      },
      "execution_count": null,
      "outputs": []
    },
    {
      "cell_type": "code",
      "source": [
        "df_all = df_all.withColumnRenamed(\"work_year\", \"Yil\")"
      ],
      "metadata": {
        "id": "wFWyPIxqNxZw"
      },
      "execution_count": null,
      "outputs": []
    },
    {
      "cell_type": "code",
      "source": [
        "df_all.select(\"Yil\").distinct().orderBy(\"Yil\").show()"
      ],
      "metadata": {
        "colab": {
          "base_uri": "https://localhost:8080/"
        },
        "id": "gTIjsWprNz2V",
        "outputId": "6967edb9-3fc7-4b6b-8548-dfecbade9a97"
      },
      "execution_count": null,
      "outputs": [
        {
          "output_type": "stream",
          "name": "stdout",
          "text": [
            "+----+\n",
            "| Yil|\n",
            "+----+\n",
            "|2020|\n",
            "|2021|\n",
            "|2022|\n",
            "+----+\n",
            "\n"
          ]
        }
      ]
    },
    {
      "cell_type": "code",
      "source": [
        "df_all.write.mode(\"overwrite\").parquet(\"/content/drive/MyDrive/datasets/df_enriched.parquet\")\n"
      ],
      "metadata": {
        "id": "yR3fKlSaOWH7"
      },
      "execution_count": null,
      "outputs": []
    }
  ]
}
